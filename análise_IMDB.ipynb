{
  "nbformat": 4,
  "nbformat_minor": 0,
  "metadata": {
    "colab": {
      "provenance": [],
      "mount_file_id": "1g4htfh5xhYsviMv9Xxm_7Rli6ZhOoJqG",
      "authorship_tag": "ABX9TyNJxpF4hla9APuIWU70UA2m",
      "include_colab_link": true
    },
    "kernelspec": {
      "name": "python3",
      "display_name": "Python 3"
    },
    "language_info": {
      "name": "python"
    }
  },
  "cells": [
    {
      "cell_type": "markdown",
      "metadata": {
        "id": "view-in-github",
        "colab_type": "text"
      },
      "source": [
        "<a href=\"https://colab.research.google.com/github/s1ms2l8/analise-base-imdb/blob/main/an%C3%A1lise_IMDB.ipynb\" target=\"_parent\"><img src=\"https://colab.research.google.com/assets/colab-badge.svg\" alt=\"Open In Colab\"/></a>"
      ]
    },
    {
      "cell_type": "markdown",
      "source": [
        "# Contexto\n",
        "\n",
        "---\n"
      ],
      "metadata": {
        "id": "dbNf5Q6R6eOR"
      }
    },
    {
      "cell_type": "markdown",
      "source": [
        "## Análise de dados para criação de um artigo\n",
        "\n",
        "\n",
        "### **Tema:** <font size='4.dp'> Avaliações de Filmes no Imdb\n",
        "\n",
        "\n",
        "### **Objetivos:**\n",
        "  *   Identificar dualidade de notas em filmes block busters\n",
        "  *   Comparar gêneros com uma média de avaliação mais alta e mais baixa\n",
        "  *   Validar globalização da cultura através da língua original do filme\n",
        "\n",
        "### **Base de dados:** [IMDB movies dataset](https://www.kaggle.com/datasets/ashpalsingh1525/imdb-movies-dataset)\n",
        "\n",
        "\n",
        "\n",
        "\n"
      ],
      "metadata": {
        "id": "xJqZbW8E7LnL"
      }
    },
    {
      "cell_type": "markdown",
      "source": [
        "# Importando os Dados\n",
        "\n",
        "---\n",
        "\n"
      ],
      "metadata": {
        "id": "7crz2FOdQLGk"
      }
    },
    {
      "cell_type": "code",
      "execution_count": 130,
      "metadata": {
        "id": "LBQG793CDtXa"
      },
      "outputs": [],
      "source": [
        "import numpy as np  #Biblioteca responsável por operações matemáticas\n",
        "import pandas as pd # Biblioteca responsável pela manipulação de dados\n",
        "import matplotlib.pyplot as plt # Biblioteca responsável pela visualização de dados\n",
        "import seaborn as sns # Biblioteca de visualização de dados em alto nível\n"
      ]
    },
    {
      "cell_type": "code",
      "source": [
        "df = pd.read_excel('/content/drive/MyDrive/imdb_movies.xlsx') #Leitura dos dados para um dataframe (df)"
      ],
      "metadata": {
        "id": "fe0XVesgRCtr"
      },
      "execution_count": 131,
      "outputs": []
    },
    {
      "cell_type": "code",
      "source": [
        "df.head()"
      ],
      "metadata": {
        "colab": {
          "base_uri": "https://localhost:8080/",
          "height": 670
        },
        "id": "7aetxv-uRWXs",
        "outputId": "966f8183-9b77-40e7-ede4-386c635e7efe"
      },
      "execution_count": 132,
      "outputs": [
        {
          "output_type": "execute_result",
          "data": {
            "text/plain": [
              "                         names               date_x  score  \\\n",
              "0                    Creed III  2023-02-03 00:00:00   73.0   \n",
              "1     Avatar: The Way of Water           12/15/2022   78.0   \n",
              "2  The Super Mario Bros. Movie  2023-05-04 00:00:00   76.0   \n",
              "3                      Mummies  2023-05-01 00:00:00   70.0   \n",
              "4                    Supercell           03/17/2023   61.0   \n",
              "\n",
              "                                           genre  \\\n",
              "0                                  Drama, Action   \n",
              "1             Science Fiction, Adventure, Action   \n",
              "2  Animation, Adventure, Family, Fantasy, Comedy   \n",
              "3  Animation, Comedy, Family, Adventure, Fantasy   \n",
              "4                                         Action   \n",
              "\n",
              "                                            overview  \\\n",
              "0  After dominating the boxing world, Adonis Cree...   \n",
              "1  Set more than a decade after the events of the...   \n",
              "2  While working underground to fix a water main,...   \n",
              "3  Through a series of unfortunate events, three ...   \n",
              "4  Good-hearted teenager William always lived in ...   \n",
              "\n",
              "                                                crew  \\\n",
              "0  Michael B. Jordan, Adonis Creed, Tessa Thompso...   \n",
              "1  Sam Worthington, Jake Sully, Zoe Saldaña, Neyt...   \n",
              "2  Chris Pratt, Mario (voice), Anya Taylor-Joy, P...   \n",
              "3  Óscar Barberán, Thut (voice), Ana Esther Albor...   \n",
              "4  Skeet Ulrich, Roy Cameron, Anne Heche, Dr Quin...   \n",
              "\n",
              "                    orig_title    status            orig_lang     budget_x  \\\n",
              "0                    Creed III  Released              English   75000000.0   \n",
              "1     Avatar: The Way of Water  Released              English  460000000.0   \n",
              "2  The Super Mario Bros. Movie  Released              English  100000000.0   \n",
              "3                       Momias  Released   Spanish, Castilian   12300000.0   \n",
              "4                    Supercell  Released              English   77000000.0   \n",
              "\n",
              "        revenue country  \n",
              "0  2.716167e+08      AU  \n",
              "1  2.316795e+09      AU  \n",
              "2  7.244590e+08      AU  \n",
              "3  3.420000e+07      AU  \n",
              "4  3.409420e+08      US  "
            ],
            "text/html": [
              "\n",
              "  <div id=\"df-6648ac36-91e8-44a2-98c8-0fe60ea7104f\">\n",
              "    <div class=\"colab-df-container\">\n",
              "      <div>\n",
              "<style scoped>\n",
              "    .dataframe tbody tr th:only-of-type {\n",
              "        vertical-align: middle;\n",
              "    }\n",
              "\n",
              "    .dataframe tbody tr th {\n",
              "        vertical-align: top;\n",
              "    }\n",
              "\n",
              "    .dataframe thead th {\n",
              "        text-align: right;\n",
              "    }\n",
              "</style>\n",
              "<table border=\"1\" class=\"dataframe\">\n",
              "  <thead>\n",
              "    <tr style=\"text-align: right;\">\n",
              "      <th></th>\n",
              "      <th>names</th>\n",
              "      <th>date_x</th>\n",
              "      <th>score</th>\n",
              "      <th>genre</th>\n",
              "      <th>overview</th>\n",
              "      <th>crew</th>\n",
              "      <th>orig_title</th>\n",
              "      <th>status</th>\n",
              "      <th>orig_lang</th>\n",
              "      <th>budget_x</th>\n",
              "      <th>revenue</th>\n",
              "      <th>country</th>\n",
              "    </tr>\n",
              "  </thead>\n",
              "  <tbody>\n",
              "    <tr>\n",
              "      <th>0</th>\n",
              "      <td>Creed III</td>\n",
              "      <td>2023-02-03 00:00:00</td>\n",
              "      <td>73.0</td>\n",
              "      <td>Drama, Action</td>\n",
              "      <td>After dominating the boxing world, Adonis Cree...</td>\n",
              "      <td>Michael B. Jordan, Adonis Creed, Tessa Thompso...</td>\n",
              "      <td>Creed III</td>\n",
              "      <td>Released</td>\n",
              "      <td>English</td>\n",
              "      <td>75000000.0</td>\n",
              "      <td>2.716167e+08</td>\n",
              "      <td>AU</td>\n",
              "    </tr>\n",
              "    <tr>\n",
              "      <th>1</th>\n",
              "      <td>Avatar: The Way of Water</td>\n",
              "      <td>12/15/2022</td>\n",
              "      <td>78.0</td>\n",
              "      <td>Science Fiction, Adventure, Action</td>\n",
              "      <td>Set more than a decade after the events of the...</td>\n",
              "      <td>Sam Worthington, Jake Sully, Zoe Saldaña, Neyt...</td>\n",
              "      <td>Avatar: The Way of Water</td>\n",
              "      <td>Released</td>\n",
              "      <td>English</td>\n",
              "      <td>460000000.0</td>\n",
              "      <td>2.316795e+09</td>\n",
              "      <td>AU</td>\n",
              "    </tr>\n",
              "    <tr>\n",
              "      <th>2</th>\n",
              "      <td>The Super Mario Bros. Movie</td>\n",
              "      <td>2023-05-04 00:00:00</td>\n",
              "      <td>76.0</td>\n",
              "      <td>Animation, Adventure, Family, Fantasy, Comedy</td>\n",
              "      <td>While working underground to fix a water main,...</td>\n",
              "      <td>Chris Pratt, Mario (voice), Anya Taylor-Joy, P...</td>\n",
              "      <td>The Super Mario Bros. Movie</td>\n",
              "      <td>Released</td>\n",
              "      <td>English</td>\n",
              "      <td>100000000.0</td>\n",
              "      <td>7.244590e+08</td>\n",
              "      <td>AU</td>\n",
              "    </tr>\n",
              "    <tr>\n",
              "      <th>3</th>\n",
              "      <td>Mummies</td>\n",
              "      <td>2023-05-01 00:00:00</td>\n",
              "      <td>70.0</td>\n",
              "      <td>Animation, Comedy, Family, Adventure, Fantasy</td>\n",
              "      <td>Through a series of unfortunate events, three ...</td>\n",
              "      <td>Óscar Barberán, Thut (voice), Ana Esther Albor...</td>\n",
              "      <td>Momias</td>\n",
              "      <td>Released</td>\n",
              "      <td>Spanish, Castilian</td>\n",
              "      <td>12300000.0</td>\n",
              "      <td>3.420000e+07</td>\n",
              "      <td>AU</td>\n",
              "    </tr>\n",
              "    <tr>\n",
              "      <th>4</th>\n",
              "      <td>Supercell</td>\n",
              "      <td>03/17/2023</td>\n",
              "      <td>61.0</td>\n",
              "      <td>Action</td>\n",
              "      <td>Good-hearted teenager William always lived in ...</td>\n",
              "      <td>Skeet Ulrich, Roy Cameron, Anne Heche, Dr Quin...</td>\n",
              "      <td>Supercell</td>\n",
              "      <td>Released</td>\n",
              "      <td>English</td>\n",
              "      <td>77000000.0</td>\n",
              "      <td>3.409420e+08</td>\n",
              "      <td>US</td>\n",
              "    </tr>\n",
              "  </tbody>\n",
              "</table>\n",
              "</div>\n",
              "      <button class=\"colab-df-convert\" onclick=\"convertToInteractive('df-6648ac36-91e8-44a2-98c8-0fe60ea7104f')\"\n",
              "              title=\"Convert this dataframe to an interactive table.\"\n",
              "              style=\"display:none;\">\n",
              "        \n",
              "  <svg xmlns=\"http://www.w3.org/2000/svg\" height=\"24px\"viewBox=\"0 0 24 24\"\n",
              "       width=\"24px\">\n",
              "    <path d=\"M0 0h24v24H0V0z\" fill=\"none\"/>\n",
              "    <path d=\"M18.56 5.44l.94 2.06.94-2.06 2.06-.94-2.06-.94-.94-2.06-.94 2.06-2.06.94zm-11 1L8.5 8.5l.94-2.06 2.06-.94-2.06-.94L8.5 2.5l-.94 2.06-2.06.94zm10 10l.94 2.06.94-2.06 2.06-.94-2.06-.94-.94-2.06-.94 2.06-2.06.94z\"/><path d=\"M17.41 7.96l-1.37-1.37c-.4-.4-.92-.59-1.43-.59-.52 0-1.04.2-1.43.59L10.3 9.45l-7.72 7.72c-.78.78-.78 2.05 0 2.83L4 21.41c.39.39.9.59 1.41.59.51 0 1.02-.2 1.41-.59l7.78-7.78 2.81-2.81c.8-.78.8-2.07 0-2.86zM5.41 20L4 18.59l7.72-7.72 1.47 1.35L5.41 20z\"/>\n",
              "  </svg>\n",
              "      </button>\n",
              "      \n",
              "  <style>\n",
              "    .colab-df-container {\n",
              "      display:flex;\n",
              "      flex-wrap:wrap;\n",
              "      gap: 12px;\n",
              "    }\n",
              "\n",
              "    .colab-df-convert {\n",
              "      background-color: #E8F0FE;\n",
              "      border: none;\n",
              "      border-radius: 50%;\n",
              "      cursor: pointer;\n",
              "      display: none;\n",
              "      fill: #1967D2;\n",
              "      height: 32px;\n",
              "      padding: 0 0 0 0;\n",
              "      width: 32px;\n",
              "    }\n",
              "\n",
              "    .colab-df-convert:hover {\n",
              "      background-color: #E2EBFA;\n",
              "      box-shadow: 0px 1px 2px rgba(60, 64, 67, 0.3), 0px 1px 3px 1px rgba(60, 64, 67, 0.15);\n",
              "      fill: #174EA6;\n",
              "    }\n",
              "\n",
              "    [theme=dark] .colab-df-convert {\n",
              "      background-color: #3B4455;\n",
              "      fill: #D2E3FC;\n",
              "    }\n",
              "\n",
              "    [theme=dark] .colab-df-convert:hover {\n",
              "      background-color: #434B5C;\n",
              "      box-shadow: 0px 1px 3px 1px rgba(0, 0, 0, 0.15);\n",
              "      filter: drop-shadow(0px 1px 2px rgba(0, 0, 0, 0.3));\n",
              "      fill: #FFFFFF;\n",
              "    }\n",
              "  </style>\n",
              "\n",
              "      <script>\n",
              "        const buttonEl =\n",
              "          document.querySelector('#df-6648ac36-91e8-44a2-98c8-0fe60ea7104f button.colab-df-convert');\n",
              "        buttonEl.style.display =\n",
              "          google.colab.kernel.accessAllowed ? 'block' : 'none';\n",
              "\n",
              "        async function convertToInteractive(key) {\n",
              "          const element = document.querySelector('#df-6648ac36-91e8-44a2-98c8-0fe60ea7104f');\n",
              "          const dataTable =\n",
              "            await google.colab.kernel.invokeFunction('convertToInteractive',\n",
              "                                                     [key], {});\n",
              "          if (!dataTable) return;\n",
              "\n",
              "          const docLinkHtml = 'Like what you see? Visit the ' +\n",
              "            '<a target=\"_blank\" href=https://colab.research.google.com/notebooks/data_table.ipynb>data table notebook</a>'\n",
              "            + ' to learn more about interactive tables.';\n",
              "          element.innerHTML = '';\n",
              "          dataTable['output_type'] = 'display_data';\n",
              "          await google.colab.output.renderOutput(dataTable, element);\n",
              "          const docLink = document.createElement('div');\n",
              "          docLink.innerHTML = docLinkHtml;\n",
              "          element.appendChild(docLink);\n",
              "        }\n",
              "      </script>\n",
              "    </div>\n",
              "  </div>\n",
              "  "
            ]
          },
          "metadata": {},
          "execution_count": 132
        }
      ]
    },
    {
      "cell_type": "code",
      "source": [
        "df.info()"
      ],
      "metadata": {
        "colab": {
          "base_uri": "https://localhost:8080/"
        },
        "id": "e4ThIj950WsA",
        "outputId": "e7997d58-4be4-4e9d-be20-db03ccad133a"
      },
      "execution_count": 133,
      "outputs": [
        {
          "output_type": "stream",
          "name": "stdout",
          "text": [
            "<class 'pandas.core.frame.DataFrame'>\n",
            "RangeIndex: 10178 entries, 0 to 10177\n",
            "Data columns (total 12 columns):\n",
            " #   Column      Non-Null Count  Dtype  \n",
            "---  ------      --------------  -----  \n",
            " 0   names       10178 non-null  object \n",
            " 1   date_x      10178 non-null  object \n",
            " 2   score       10178 non-null  float64\n",
            " 3   genre       10093 non-null  object \n",
            " 4   overview    10178 non-null  object \n",
            " 5   crew        10122 non-null  object \n",
            " 6   orig_title  10178 non-null  object \n",
            " 7   status      10178 non-null  object \n",
            " 8   orig_lang   10178 non-null  object \n",
            " 9   budget_x    10178 non-null  float64\n",
            " 10  revenue     10178 non-null  float64\n",
            " 11  country     10178 non-null  object \n",
            "dtypes: float64(3), object(9)\n",
            "memory usage: 954.3+ KB\n"
          ]
        }
      ]
    },
    {
      "cell_type": "markdown",
      "source": [
        "#Limpeza e transformação\n",
        "\n",
        "---\n",
        "\n"
      ],
      "metadata": {
        "id": "hNt-ROBT-mfc"
      }
    },
    {
      "cell_type": "code",
      "source": [
        "df.duplicated().sum()"
      ],
      "metadata": {
        "colab": {
          "base_uri": "https://localhost:8080/"
        },
        "id": "TBi_qogGzHyD",
        "outputId": "d27d0317-01ec-4f63-eecf-53e695a8c984"
      },
      "execution_count": 134,
      "outputs": [
        {
          "output_type": "execute_result",
          "data": {
            "text/plain": [
              "0"
            ]
          },
          "metadata": {},
          "execution_count": 134
        }
      ]
    },
    {
      "cell_type": "code",
      "source": [
        "sns.heatmap(df.isnull(),\n",
        "            cbar = False,\n",
        "            cmap = 'gnuplot')"
      ],
      "metadata": {
        "colab": {
          "base_uri": "https://localhost:8080/",
          "height": 505
        },
        "id": "sMfKcvgt-32L",
        "outputId": "82a27204-4150-427e-a7e7-9d08aeb65ef8"
      },
      "execution_count": 135,
      "outputs": [
        {
          "output_type": "execute_result",
          "data": {
            "text/plain": [
              "<Axes: >"
            ]
          },
          "metadata": {},
          "execution_count": 135
        },
        {
          "output_type": "display_data",
          "data": {
            "text/plain": [
              "<Figure size 640x480 with 1 Axes>"
            ],
            "image/png": "[encoded data removed]"
          },
          "metadata": {}
        }
      ]
    },
    {
      "cell_type": "code",
      "source": [
        "nanMovies = []\n",
        "for row in range(0, len(df['genre'])):\n",
        "  if (df['genre'].isnull()[row] or df['crew'].isnull()[row]):\n",
        "    nanMovies.append(df['names'][row])"
      ],
      "metadata": {
        "id": "2QJRbKFnKUJa"
      },
      "execution_count": 136,
      "outputs": []
    },
    {
      "cell_type": "code",
      "source": [
        "print(len(nanMovies))"
      ],
      "metadata": {
        "colab": {
          "base_uri": "https://localhost:8080/"
        },
        "id": "JCQGaOJrMGZj",
        "outputId": "1f010322-48ae-4a46-af80-b3408214ca07"
      },
      "execution_count": 137,
      "outputs": [
        {
          "output_type": "stream",
          "name": "stdout",
          "text": [
            "126\n"
          ]
        }
      ]
    },
    {
      "cell_type": "code",
      "source": [
        "i=0\n",
        "\n",
        "for row in range(0, len(df)):\n",
        "  if (df['genre'].isnull()[row]):\n",
        "    i += 1\n",
        "\n",
        "print (i)"
      ],
      "metadata": {
        "colab": {
          "base_uri": "https://localhost:8080/"
        },
        "id": "NCsBvmnMNx2l",
        "outputId": "be5bdd5a-c96b-449b-870e-2cf1153539fe"
      },
      "execution_count": 138,
      "outputs": [
        {
          "output_type": "stream",
          "name": "stdout",
          "text": [
            "85\n"
          ]
        }
      ]
    },
    {
      "cell_type": "markdown",
      "source": [
        "> 126 filmes sem gênero ou Cast de atuação, representa 1,24% da base de dados\n",
        "\n",
        "---\n",
        "\n"
      ],
      "metadata": {
        "id": "V7GBsrJfQWtx"
      }
    },
    {
      "cell_type": "code",
      "source": [
        "df.rename(columns={'names':'nome', 'date_x':'lançamento', 'genre':'genero', 'overview':'sinopse', 'crew':'elenco', 'orig_title':'titulo_orig', 'orig_lang':'idioma_orig', 'budget_x':'orçamento', 'revenue':'bilheteria', 'country':'pais_orig'}, inplace = True)"
      ],
      "metadata": {
        "id": "bhfgCrNpQ1IF"
      },
      "execution_count": 139,
      "outputs": []
    },
    {
      "cell_type": "code",
      "source": [
        "df['status'].unique()"
      ],
      "metadata": {
        "colab": {
          "base_uri": "https://localhost:8080/"
        },
        "id": "tPW0PUwsUUDq",
        "outputId": "2fae48b1-5754-43a8-b195-89d9774cab06"
      },
      "execution_count": 140,
      "outputs": [
        {
          "output_type": "execute_result",
          "data": {
            "text/plain": [
              "array(['Released', 'Post Production', 'In Production'], dtype=object)"
            ]
          },
          "metadata": {},
          "execution_count": 140
        }
      ]
    },
    {
      "cell_type": "code",
      "source": [
        "for row in range(0, len(df)):\n",
        "  if (df['status'][row] != 'Released' or df['genero'].isnull()[row] or df['elenco'].isnull()[row]):\n",
        "    #dropa todo filme não lançado, sem gêneros ou Cast\n",
        "    df.drop(row, inplace = True)"
      ],
      "metadata": {
        "id": "LKCG_fxDUntu"
      },
      "execution_count": 141,
      "outputs": []
    },
    {
      "cell_type": "code",
      "source": [
        "df['status'].unique()"
      ],
      "metadata": {
        "colab": {
          "base_uri": "https://localhost:8080/"
        },
        "id": "F8NxJ1ND1SDL",
        "outputId": "04e87f54-a7af-476f-ccb4-bc8bf380bcd4"
      },
      "execution_count": 142,
      "outputs": [
        {
          "output_type": "execute_result",
          "data": {
            "text/plain": [
              "array(['Released'], dtype=object)"
            ]
          },
          "metadata": {},
          "execution_count": 142
        }
      ]
    },
    {
      "cell_type": "code",
      "source": [
        "df.drop(columns=['status'], inplace = True)"
      ],
      "metadata": {
        "id": "_U42lBBjONqW"
      },
      "execution_count": 143,
      "outputs": []
    },
    {
      "cell_type": "markdown",
      "source": [
        "Removidos registros com status diferente de lançado devido não ser possível avaliar o desempenho de um filme que não foi lançado,\n",
        "\n",
        "após isso coluna já não servia mais um propósito e também foi deletada"
      ],
      "metadata": {
        "id": "qsXQ0P52yHe3"
      }
    },
    {
      "cell_type": "code",
      "source": [
        "newIndex = []\n",
        "\n",
        "for row in range(0, len(df)):\n",
        "  newIndex.append(row)\n",
        "\n",
        "df.reindex(newIndex)"
      ],
      "metadata": {
        "colab": {
          "base_uri": "https://localhost:8080/",
          "height": 1000
        },
        "id": "4qA2pEPJHvae",
        "outputId": "a2de6f92-19d1-45ea-d2fb-204983c71277"
      },
      "execution_count": 144,
      "outputs": [
        {
          "output_type": "execute_result",
          "data": {
            "text/plain": [
              "                              nome           lançamento  score  \\\n",
              "0                        Creed III  2023-02-03 00:00:00   73.0   \n",
              "1         Avatar: The Way of Water           12/15/2022   78.0   \n",
              "2      The Super Mario Bros. Movie  2023-05-04 00:00:00   76.0   \n",
              "3                          Mummies  2023-05-01 00:00:00   70.0   \n",
              "4                        Supercell           03/17/2023   61.0   \n",
              "...                            ...                  ...    ...   \n",
              "10002                     Joe Dirt  2001-10-08 00:00:00   56.0   \n",
              "10003                        Domme           03/17/2023   55.0   \n",
              "10004                     Excision  2012-02-11 00:00:00   62.0   \n",
              "10005         The Boat That Rocked  2009-09-04 00:00:00   73.0   \n",
              "10006       iParty with Victorious  2011-11-06 00:00:00   76.0   \n",
              "\n",
              "                                              genero  \\\n",
              "0                                      Drama, Action   \n",
              "1                 Science Fiction, Adventure, Action   \n",
              "2      Animation, Adventure, Family, Fantasy, Comedy   \n",
              "3      Animation, Comedy, Family, Adventure, Fantasy   \n",
              "4                                             Action   \n",
              "...                                              ...   \n",
              "10002     Mystery, Adventure, Comedy, Romance, Drama   \n",
              "10003                                          Drama   \n",
              "10004                                  Drama, Horror   \n",
              "10005                                  Drama, Comedy   \n",
              "10006                TV Movie, Comedy, Family, Music   \n",
              "\n",
              "                                                 sinopse  \\\n",
              "0      After dominating the boxing world, Adonis Cree...   \n",
              "1      Set more than a decade after the events of the...   \n",
              "2      While working underground to fix a water main,...   \n",
              "3      Through a series of unfortunate events, three ...   \n",
              "4      Good-hearted teenager William always lived in ...   \n",
              "...                                                  ...   \n",
              "10002  Joe Dirt is a janitor with a mullet hairdo, ac...   \n",
              "10003  A man spies on his neighbors because of the no...   \n",
              "10004  Alienated teen Pauline struggles with the pres...   \n",
              "10005  An ensemble comedy, where the romance is betwe...   \n",
              "10006  Scorned girlfriends Carly and Tori hatch a plo...   \n",
              "\n",
              "                                                  elenco  \\\n",
              "0      Michael B. Jordan, Adonis Creed, Tessa Thompso...   \n",
              "1      Sam Worthington, Jake Sully, Zoe Saldaña, Neyt...   \n",
              "2      Chris Pratt, Mario (voice), Anya Taylor-Joy, P...   \n",
              "3      Óscar Barberán, Thut (voice), Ana Esther Albor...   \n",
              "4      Skeet Ulrich, Roy Cameron, Anne Heche, Dr Quin...   \n",
              "...                                                  ...   \n",
              "10002  David Spade, Joe Dirt, Brittany Daniel, Brandy...   \n",
              "10003  Ava Mendez, , Ali Asistio, , Mark Anthony Fern...   \n",
              "10004  AnnaLynne McCord, Pauline, Traci Lords, Phylli...   \n",
              "10005  Tom Sturridge, Carl, Philip Seymour Hoffman, T...   \n",
              "10006  Miranda Cosgrove, Carly Shay, Jennette McCurdy...   \n",
              "\n",
              "                       titulo_orig          idioma_orig    orçamento  \\\n",
              "0                        Creed III              English   75000000.0   \n",
              "1         Avatar: The Way of Water              English  460000000.0   \n",
              "2      The Super Mario Bros. Movie              English  100000000.0   \n",
              "3                           Momias   Spanish, Castilian   12300000.0   \n",
              "4                        Supercell              English   77000000.0   \n",
              "...                            ...                  ...          ...   \n",
              "10002                     Joe Dirt              English   16000000.0   \n",
              "10003                        Domme              Tagalog  142000000.0   \n",
              "10004                     Excision              English  112000000.0   \n",
              "10005         The Boat That Rocked              English   50000000.0   \n",
              "10006       iParty with Victorious              English  135000000.0   \n",
              "\n",
              "         bilheteria pais_orig  \n",
              "0      2.716167e+08        AU  \n",
              "1      2.316795e+09        AU  \n",
              "2      7.244590e+08        AU  \n",
              "3      3.420000e+07        AU  \n",
              "4      3.409420e+08        US  \n",
              "...             ...       ...  \n",
              "10002  3.098770e+07        AU  \n",
              "10003  4.544886e+08        PH  \n",
              "10004  2.818232e+08        US  \n",
              "10005  3.747265e+07        AU  \n",
              "10006  5.478254e+08        US  \n",
              "\n",
              "[10007 rows x 11 columns]"
            ],
            "text/html": [
              "\n",
              "  <div id=\"df-c51c9d3f-452e-4427-ac40-25912daccf35\">\n",
              "    <div class=\"colab-df-container\">\n",
              "      <div>\n",
              "<style scoped>\n",
              "    .dataframe tbody tr th:only-of-type {\n",
              "        vertical-align: middle;\n",
              "    }\n",
              "\n",
              "    .dataframe tbody tr th {\n",
              "        vertical-align: top;\n",
              "    }\n",
              "\n",
              "    .dataframe thead th {\n",
              "        text-align: right;\n",
              "    }\n",
              "</style>\n",
              "<table border=\"1\" class=\"dataframe\">\n",
              "  <thead>\n",
              "    <tr style=\"text-align: right;\">\n",
              "      <th></th>\n",
              "      <th>nome</th>\n",
              "      <th>lançamento</th>\n",
              "      <th>score</th>\n",
              "      <th>genero</th>\n",
              "      <th>sinopse</th>\n",
              "      <th>elenco</th>\n",
              "      <th>titulo_orig</th>\n",
              "      <th>idioma_orig</th>\n",
              "      <th>orçamento</th>\n",
              "      <th>bilheteria</th>\n",
              "      <th>pais_orig</th>\n",
              "    </tr>\n",
              "  </thead>\n",
              "  <tbody>\n",
              "    <tr>\n",
              "      <th>0</th>\n",
              "      <td>Creed III</td>\n",
              "      <td>2023-02-03 00:00:00</td>\n",
              "      <td>73.0</td>\n",
              "      <td>Drama, Action</td>\n",
              "      <td>After dominating the boxing world, Adonis Cree...</td>\n",
              "      <td>Michael B. Jordan, Adonis Creed, Tessa Thompso...</td>\n",
              "      <td>Creed III</td>\n",
              "      <td>English</td>\n",
              "      <td>75000000.0</td>\n",
              "      <td>2.716167e+08</td>\n",
              "      <td>AU</td>\n",
              "    </tr>\n",
              "    <tr>\n",
              "      <th>1</th>\n",
              "      <td>Avatar: The Way of Water</td>\n",
              "      <td>12/15/2022</td>\n",
              "      <td>78.0</td>\n",
              "      <td>Science Fiction, Adventure, Action</td>\n",
              "      <td>Set more than a decade after the events of the...</td>\n",
              "      <td>Sam Worthington, Jake Sully, Zoe Saldaña, Neyt...</td>\n",
              "      <td>Avatar: The Way of Water</td>\n",
              "      <td>English</td>\n",
              "      <td>460000000.0</td>\n",
              "      <td>2.316795e+09</td>\n",
              "      <td>AU</td>\n",
              "    </tr>\n",
              "    <tr>\n",
              "      <th>2</th>\n",
              "      <td>The Super Mario Bros. Movie</td>\n",
              "      <td>2023-05-04 00:00:00</td>\n",
              "      <td>76.0</td>\n",
              "      <td>Animation, Adventure, Family, Fantasy, Comedy</td>\n",
              "      <td>While working underground to fix a water main,...</td>\n",
              "      <td>Chris Pratt, Mario (voice), Anya Taylor-Joy, P...</td>\n",
              "      <td>The Super Mario Bros. Movie</td>\n",
              "      <td>English</td>\n",
              "      <td>100000000.0</td>\n",
              "      <td>7.244590e+08</td>\n",
              "      <td>AU</td>\n",
              "    </tr>\n",
              "    <tr>\n",
              "      <th>3</th>\n",
              "      <td>Mummies</td>\n",
              "      <td>2023-05-01 00:00:00</td>\n",
              "      <td>70.0</td>\n",
              "      <td>Animation, Comedy, Family, Adventure, Fantasy</td>\n",
              "      <td>Through a series of unfortunate events, three ...</td>\n",
              "      <td>Óscar Barberán, Thut (voice), Ana Esther Albor...</td>\n",
              "      <td>Momias</td>\n",
              "      <td>Spanish, Castilian</td>\n",
              "      <td>12300000.0</td>\n",
              "      <td>3.420000e+07</td>\n",
              "      <td>AU</td>\n",
              "    </tr>\n",
              "    <tr>\n",
              "      <th>4</th>\n",
              "      <td>Supercell</td>\n",
              "      <td>03/17/2023</td>\n",
              "      <td>61.0</td>\n",
              "      <td>Action</td>\n",
              "      <td>Good-hearted teenager William always lived in ...</td>\n",
              "      <td>Skeet Ulrich, Roy Cameron, Anne Heche, Dr Quin...</td>\n",
              "      <td>Supercell</td>\n",
              "      <td>English</td>\n",
              "      <td>77000000.0</td>\n",
              "      <td>3.409420e+08</td>\n",
              "      <td>US</td>\n",
              "    </tr>\n",
              "    <tr>\n",
              "      <th>...</th>\n",
              "      <td>...</td>\n",
              "      <td>...</td>\n",
              "      <td>...</td>\n",
              "      <td>...</td>\n",
              "      <td>...</td>\n",
              "      <td>...</td>\n",
              "      <td>...</td>\n",
              "      <td>...</td>\n",
              "      <td>...</td>\n",
              "      <td>...</td>\n",
              "      <td>...</td>\n",
              "    </tr>\n",
              "    <tr>\n",
              "      <th>10002</th>\n",
              "      <td>Joe Dirt</td>\n",
              "      <td>2001-10-08 00:00:00</td>\n",
              "      <td>56.0</td>\n",
              "      <td>Mystery, Adventure, Comedy, Romance, Drama</td>\n",
              "      <td>Joe Dirt is a janitor with a mullet hairdo, ac...</td>\n",
              "      <td>David Spade, Joe Dirt, Brittany Daniel, Brandy...</td>\n",
              "      <td>Joe Dirt</td>\n",
              "      <td>English</td>\n",
              "      <td>16000000.0</td>\n",
              "      <td>3.098770e+07</td>\n",
              "      <td>AU</td>\n",
              "    </tr>\n",
              "    <tr>\n",
              "      <th>10003</th>\n",
              "      <td>Domme</td>\n",
              "      <td>03/17/2023</td>\n",
              "      <td>55.0</td>\n",
              "      <td>Drama</td>\n",
              "      <td>A man spies on his neighbors because of the no...</td>\n",
              "      <td>Ava Mendez, , Ali Asistio, , Mark Anthony Fern...</td>\n",
              "      <td>Domme</td>\n",
              "      <td>Tagalog</td>\n",
              "      <td>142000000.0</td>\n",
              "      <td>4.544886e+08</td>\n",
              "      <td>PH</td>\n",
              "    </tr>\n",
              "    <tr>\n",
              "      <th>10004</th>\n",
              "      <td>Excision</td>\n",
              "      <td>2012-02-11 00:00:00</td>\n",
              "      <td>62.0</td>\n",
              "      <td>Drama, Horror</td>\n",
              "      <td>Alienated teen Pauline struggles with the pres...</td>\n",
              "      <td>AnnaLynne McCord, Pauline, Traci Lords, Phylli...</td>\n",
              "      <td>Excision</td>\n",
              "      <td>English</td>\n",
              "      <td>112000000.0</td>\n",
              "      <td>2.818232e+08</td>\n",
              "      <td>US</td>\n",
              "    </tr>\n",
              "    <tr>\n",
              "      <th>10005</th>\n",
              "      <td>The Boat That Rocked</td>\n",
              "      <td>2009-09-04 00:00:00</td>\n",
              "      <td>73.0</td>\n",
              "      <td>Drama, Comedy</td>\n",
              "      <td>An ensemble comedy, where the romance is betwe...</td>\n",
              "      <td>Tom Sturridge, Carl, Philip Seymour Hoffman, T...</td>\n",
              "      <td>The Boat That Rocked</td>\n",
              "      <td>English</td>\n",
              "      <td>50000000.0</td>\n",
              "      <td>3.747265e+07</td>\n",
              "      <td>AU</td>\n",
              "    </tr>\n",
              "    <tr>\n",
              "      <th>10006</th>\n",
              "      <td>iParty with Victorious</td>\n",
              "      <td>2011-11-06 00:00:00</td>\n",
              "      <td>76.0</td>\n",
              "      <td>TV Movie, Comedy, Family, Music</td>\n",
              "      <td>Scorned girlfriends Carly and Tori hatch a plo...</td>\n",
              "      <td>Miranda Cosgrove, Carly Shay, Jennette McCurdy...</td>\n",
              "      <td>iParty with Victorious</td>\n",
              "      <td>English</td>\n",
              "      <td>135000000.0</td>\n",
              "      <td>5.478254e+08</td>\n",
              "      <td>US</td>\n",
              "    </tr>\n",
              "  </tbody>\n",
              "</table>\n",
              "<p>10007 rows × 11 columns</p>\n",
              "</div>\n",
              "      <button class=\"colab-df-convert\" onclick=\"convertToInteractive('df-c51c9d3f-452e-4427-ac40-25912daccf35')\"\n",
              "              title=\"Convert this dataframe to an interactive table.\"\n",
              "              style=\"display:none;\">\n",
              "        \n",
              "  <svg xmlns=\"http://www.w3.org/2000/svg\" height=\"24px\"viewBox=\"0 0 24 24\"\n",
              "       width=\"24px\">\n",
              "    <path d=\"M0 0h24v24H0V0z\" fill=\"none\"/>\n",
              "    <path d=\"M18.56 5.44l.94 2.06.94-2.06 2.06-.94-2.06-.94-.94-2.06-.94 2.06-2.06.94zm-11 1L8.5 8.5l.94-2.06 2.06-.94-2.06-.94L8.5 2.5l-.94 2.06-2.06.94zm10 10l.94 2.06.94-2.06 2.06-.94-2.06-.94-.94-2.06-.94 2.06-2.06.94z\"/><path d=\"M17.41 7.96l-1.37-1.37c-.4-.4-.92-.59-1.43-.59-.52 0-1.04.2-1.43.59L10.3 9.45l-7.72 7.72c-.78.78-.78 2.05 0 2.83L4 21.41c.39.39.9.59 1.41.59.51 0 1.02-.2 1.41-.59l7.78-7.78 2.81-2.81c.8-.78.8-2.07 0-2.86zM5.41 20L4 18.59l7.72-7.72 1.47 1.35L5.41 20z\"/>\n",
              "  </svg>\n",
              "      </button>\n",
              "      \n",
              "  <style>\n",
              "    .colab-df-container {\n",
              "      display:flex;\n",
              "      flex-wrap:wrap;\n",
              "      gap: 12px;\n",
              "    }\n",
              "\n",
              "    .colab-df-convert {\n",
              "      background-color: #E8F0FE;\n",
              "      border: none;\n",
              "      border-radius: 50%;\n",
              "      cursor: pointer;\n",
              "      display: none;\n",
              "      fill: #1967D2;\n",
              "      height: 32px;\n",
              "      padding: 0 0 0 0;\n",
              "      width: 32px;\n",
              "    }\n",
              "\n",
              "    .colab-df-convert:hover {\n",
              "      background-color: #E2EBFA;\n",
              "      box-shadow: 0px 1px 2px rgba(60, 64, 67, 0.3), 0px 1px 3px 1px rgba(60, 64, 67, 0.15);\n",
              "      fill: #174EA6;\n",
              "    }\n",
              "\n",
              "    [theme=dark] .colab-df-convert {\n",
              "      background-color: #3B4455;\n",
              "      fill: #D2E3FC;\n",
              "    }\n",
              "\n",
              "    [theme=dark] .colab-df-convert:hover {\n",
              "      background-color: #434B5C;\n",
              "      box-shadow: 0px 1px 3px 1px rgba(0, 0, 0, 0.15);\n",
              "      filter: drop-shadow(0px 1px 2px rgba(0, 0, 0, 0.3));\n",
              "      fill: #FFFFFF;\n",
              "    }\n",
              "  </style>\n",
              "\n",
              "      <script>\n",
              "        const buttonEl =\n",
              "          document.querySelector('#df-c51c9d3f-452e-4427-ac40-25912daccf35 button.colab-df-convert');\n",
              "        buttonEl.style.display =\n",
              "          google.colab.kernel.accessAllowed ? 'block' : 'none';\n",
              "\n",
              "        async function convertToInteractive(key) {\n",
              "          const element = document.querySelector('#df-c51c9d3f-452e-4427-ac40-25912daccf35');\n",
              "          const dataTable =\n",
              "            await google.colab.kernel.invokeFunction('convertToInteractive',\n",
              "                                                     [key], {});\n",
              "          if (!dataTable) return;\n",
              "\n",
              "          const docLinkHtml = 'Like what you see? Visit the ' +\n",
              "            '<a target=\"_blank\" href=https://colab.research.google.com/notebooks/data_table.ipynb>data table notebook</a>'\n",
              "            + ' to learn more about interactive tables.';\n",
              "          element.innerHTML = '';\n",
              "          dataTable['output_type'] = 'display_data';\n",
              "          await google.colab.output.renderOutput(dataTable, element);\n",
              "          const docLink = document.createElement('div');\n",
              "          docLink.innerHTML = docLinkHtml;\n",
              "          element.appendChild(docLink);\n",
              "        }\n",
              "      </script>\n",
              "    </div>\n",
              "  </div>\n",
              "  "
            ]
          },
          "metadata": {},
          "execution_count": 144
        }
      ]
    },
    {
      "cell_type": "code",
      "source": [
        "generos = []\n",
        "\n",
        "for row in range(0, len(df)):\n",
        "  generos.append(str(df['genero'].iloc[row]).split(u',\\xa0'))\n",
        "\n",
        "df['genero'] = generos"
      ],
      "metadata": {
        "id": "MOP1xKl7PejG"
      },
      "execution_count": 162,
      "outputs": []
    },
    {
      "cell_type": "code",
      "source": [
        "generos"
      ],
      "metadata": {
        "colab": {
          "base_uri": "https://localhost:8080/"
        },
        "id": "n2IM964VSndm",
        "outputId": "ec068343-8f6d-4af7-e314-7b28c9d30d9d"
      },
      "execution_count": 165,
      "outputs": [
        {
          "output_type": "execute_result",
          "data": {
            "text/plain": [
              "<bound method Series.unique of 0                                          [Drama, Action]\n",
              "1                     [Science Fiction, Adventure, Action]\n",
              "2          [Animation, Adventure, Family, Fantasy, Comedy]\n",
              "3          [Animation, Comedy, Family, Adventure, Fantasy]\n",
              "4                                                 [Action]\n",
              "                               ...                        \n",
              "10173                                              [Drama]\n",
              "10174                                             [Action]\n",
              "10175                           [Drama, Thriller, Romance]\n",
              "10176    [Action, Adventure, Science Fiction, Thriller,...\n",
              "10177                         [Animation, Family, Fantasy]\n",
              "Name: genero, Length: 10007, dtype: object>"
            ]
          },
          "metadata": {},
          "execution_count": 165
        }
      ]
    },
    {
      "cell_type": "code",
      "source": [
        "generos = []\n",
        "\n",
        "for i in range(0, len(df)):\n",
        "  for j in range(0, len(df['genero'].iloc[i])):\n",
        "    if df['genero'].iloc[i][j] not in generos:\n",
        "      generos.append(df['genero'].iloc[i][j])\n",
        "\n",
        "generos"
      ],
      "metadata": {
        "colab": {
          "base_uri": "https://localhost:8080/"
        },
        "id": "23NfNvdMZQ2K",
        "outputId": "f443ff1a-6a8c-41df-ea17-e4b9f8ee6947"
      },
      "execution_count": 166,
      "outputs": [
        {
          "output_type": "execute_result",
          "data": {
            "text/plain": [
              "['Drama',\n",
              " 'Action',\n",
              " 'Science Fiction',\n",
              " 'Adventure',\n",
              " 'Animation',\n",
              " 'Family',\n",
              " 'Fantasy',\n",
              " 'Comedy',\n",
              " 'Thriller',\n",
              " 'Crime',\n",
              " 'Horror',\n",
              " 'Mystery',\n",
              " 'History',\n",
              " 'War',\n",
              " 'Documentary',\n",
              " 'Romance',\n",
              " 'Music',\n",
              " 'Western',\n",
              " 'TV Movie']"
            ]
          },
          "metadata": {},
          "execution_count": 166
        }
      ]
    },
    {
      "cell_type": "code",
      "source": [],
      "metadata": {
        "id": "n_fxoYq8aX5R"
      },
      "execution_count": null,
      "outputs": []
    }
  ]
}